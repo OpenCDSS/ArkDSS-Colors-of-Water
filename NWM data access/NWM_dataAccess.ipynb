{
 "cells": [
  {
   "cell_type": "markdown",
   "metadata": {},
   "source": [
    "# How to Access Forecast Data from the National Water model \n",
    "\n",
    "<strong><em>Created by Ayman Alafifi, Brown and Caldwell. 2022</em></strong><br>\n",
    "<em><strong>\n",
    "\n",
    "<strong><em>Special thanks to <a href=\"https://www.linkedin.com/in/justin-hunter-0b86871a6/\" target=\"_blank\">Justin Hunter</a>, <a href=\"https://www.linkedin.com/in/danames/\" target=\"_blank\">Dr. Dan Ames</a>, and <a href=\"https://www.linkedin.com/in/easton-perkins-02968a156/\" target=\"_blank\">Easton Perkins</a> for providing query functions on HydroShare.</em></strong>"
   ]
  },
  {
   "cell_type": "markdown",
   "metadata": {},
   "source": [
    "Forecast data from the National Water Model (NWM) are available from two sources:\n",
    "\n",
    "1. The full set of NWM output data and a subset of forcing files is available on NOAA Operational Model Archive and Distribution System (NOMADS) HTTP service. This web server includes NWM forecast for all 2.7 million stream segments across the CONUS, but the data is only stored for the current and previous day's NWM forecasts.\n",
    "\n",
    "2. A subset of the NWM output data for about 7500 NWM reaches that have an associated USGS gauges are available on a Google Cloud Storage here.  Data from September of 2018 through today is available there.\n",
    "\n",
    "\n",
    "This jupyter notebook provides instructions and examples to guide users on how to download and acess the data from these two sources."
   ]
  },
  {
   "cell_type": "markdown",
   "metadata": {},
   "source": [
    "<em><h3>NOMADs Dataset</h3></em>\n",
    "\n",
    "Data from NOMADS can be accessed from this site:\n",
    "https://nomads.ncep.noaa.gov/pub/data/nccf/com/nwm/"
   ]
  },
  {
   "cell_type": "code",
   "execution_count": 6,
   "metadata": {},
   "outputs": [],
   "source": [
    "#import libraries for data query and plotting\n",
    "\n",
    "from datetime import date\n",
    "import os\n",
    "import requests\n",
    "import xarray as xr\n",
    "import matplotlib.pyplot as plt\n",
    "# Set-up inline plots using matplotlib\n",
    "%matplotlib inline"
   ]
  },
  {
   "cell_type": "markdown",
   "metadata": {},
   "source": [
    "<em><h4>Create query functions</h4></em>"
   ]
  },
  {
   "cell_type": "markdown",
   "metadata": {},
   "source": [
    "The next code cell defines three functions that are used in the notebook. Short descriptions are provided next to each function as Python comments.The first function builds the URL for a given forecast. The next function downloads the given forecast from NOAA. The third function gets a time series of data for a given stream segment and uses the first two functions to get the necessary forecasts."
   ]
  },
  {
   "cell_type": "code",
   "execution_count": 7,
   "metadata": {},
   "outputs": [],
   "source": [
    "# This function builds the url for a specific forecast from the NOAA NWM http file delivery index (https://nomads.ncep.noaa.gov/pub/data/nccf/com/nwm/prod/)\n",
    "# The urls are similar to this one: 'https://nomads.ncep.noaa.gov/pub/data/nccf/com/nwm/prod/nwm.20210320/short_range/nwm.t00z.short_range.channel_rt.f001.conus.nc'\n",
    "def GetForecastFileName(ForecastStartDate = '20210321', ForecastStartTimestep='00', ForecastType = 'short_range', ForecastMember='1', TimeStep = '001'):\n",
    "  BaseName = 'https://nomads.ncep.noaa.gov/pub/data/nccf/com/nwm/prod/nwm.'\n",
    "\n",
    "  # The Different forecast types have slightly different urls. The following 'if elif' statements help build valid urls based on the forecast type given to the function.\n",
    "  if (ForecastType == 'short_range'):\n",
    "    return BaseName + ForecastStartDate + '/short_range/nwm.t' + ForecastStartTimestep +'z.short_range.channel_rt.f' + TimeStep + '.conus.nc'\n",
    "  elif (ForecastType == 'medium_range'): \n",
    "    return BaseName + ForecastStartDate + '/medium_range_mem' + ForecastMember + '/nwm.t' + ForecastStartTimestep +'z.medium_range.channel_rt_' + ForecastMember + '.f' + TimeStep + '.conus.nc'\n",
    "  elif (ForecastType == 'long_range'):\n",
    "    return BaseName + ForecastStartDate + '/long_range_mem' + ForecastMember + '/nwm.t' + ForecastStartTimestep +'z.long_range.channel_rt_' + ForecastMember + '.f' + TimeStep + '.conus.nc'\n",
    "  else:\n",
    "    return 'error'\n",
    "\n",
    "\n",
    "# This function downloads the given forecast file from NOAA using its url. You can see that we use os to communicate with the operating system and requests to 'get' what is at that url.\n",
    "def GetForecastFile(Url = 'https://nomads.ncep.noaa.gov/pub/data/nccf/com/nwm/prod/nwm.20210321/short_range/nwm.t00z.short_range.channel_rt.f001.conus.nc'):\n",
    "  FileName = os.path.basename(Url)\n",
    "  if os.path.exists(FileName):\n",
    "    os.remove(FileName)\n",
    "  r = requests.get(Url, allow_redirects=True)\n",
    "  open(FileName, 'wb').write(r.content)\n",
    "  \n",
    "  return FileName\n",
    "\n",
    "\n",
    "# This last function gets a time series of data for a stream segment by looping through and grabbing the forecast files at every time interval until the full forecast has been retrieved and added to the series.\n",
    "# For example, a short range forecast is 18 hours long and has 18 1-hr intervals that need to be retrieved to build the full time series.\n",
    "# This function only grabs every third forecast for medium range forecasts. That means that the range is 80 for member 1 and 68 for other members. That results in 240-hr (10-day) and 204-hr (8.5 hour) forecasts respectively.\n",
    "# Long range forecasts have 6-hr intervals which extend out to 30 days (720 hours). That means that the range is 120 (720/6).\n",
    "def GetSeries(StreamID = 23275226, ForecastStartDate = '20210321', ForecastStartTimestep='00', ForecastType = 'short_range', ForecastMember='1'):\n",
    "  TimeSteps = []\n",
    "  TimeSteps.clear()\n",
    "  Series = []\n",
    "  Series.clear()\n",
    "  if (ForecastType=='short_range'):\n",
    "    for i in range(18):\n",
    "      TimeSteps.append(\"%03d\" % (i+1))\n",
    "  elif (ForecastType=='medium_range' and ForecastMember=='1'):\n",
    "    for i in range(80):\n",
    "      TimeSteps.append(\"%03d\" % ((i+1)*3))\n",
    "  elif (ForecastType=='medium_range' and ForecastMember!='1'):\n",
    "    for i in range (68):\n",
    "      TimeSteps.append(\"%03d\" % ((i+1)*3))\n",
    "  elif (ForecastType=='long_range'):\n",
    "    for i in range(120):\n",
    "      TimeSteps.append(\"%03d\" % ((i+1)*6))\n",
    "  else: \n",
    "    return 'Error building time steps'\n",
    "  \n",
    "  for ts in TimeSteps:\n",
    "    MyUrl = GetForecastFileName(ForecastStartDate,ForecastStartTimestep, ForecastType,ForecastMember,ts)\n",
    "    FileName = GetForecastFile(MyUrl)\n",
    "    if(FileName != 'error'):\n",
    "      data = xr.open_dataset(FileName)\n",
    "      Q = float(data.sel(feature_id=StreamID).streamflow.values)\n",
    "      Series.append(Q)\n",
    "    else:\n",
    "      print('Error getting forecast files.')\n",
    "    \n",
    "  return Series"
   ]
  },
  {
   "cell_type": "markdown",
   "metadata": {},
   "source": [
    "<em><h4>Define variables for the query functions</h4></em>"
   ]
  },
  {
   "cell_type": "code",
   "execution_count": 8,
   "metadata": {},
   "outputs": [
    {
     "name": "stdout",
     "output_type": "stream",
     "text": [
      "2022-07-30\n",
      "20220730\n"
     ]
    }
   ],
   "source": [
    "# This gets todays date, stores it in yyyymmdd format and assigns it to the variable 'today' which we can use in the next cell\n",
    "# Note: for NOMAD data, only forecast start date of today and yesterday are available. \n",
    "# For historical data, see Google bucket functions below \n",
    "today = date.today()\n",
    "print(today)\n",
    "today = str(today)\n",
    "today = today.replace(\"-\", \"\")\n",
    "print(today)"
   ]
  },
  {
   "cell_type": "code",
   "execution_count": 15,
   "metadata": {},
   "outputs": [
    {
     "name": "stdout",
     "output_type": "stream",
     "text": [
      "[179.8099959809333, 179.53999598696828, 179.30999599210918, 179.13999599590898, 179.0099959988147, 178.91999600082636, 178.8399960026145, 178.74999600462615, 178.57999600842595, 178.17999601736665, 177.3399960361421, 175.7899960707873, 173.3199961259961, 169.8299962040037, 165.339996304363, 159.9999964237213, 154.0299965571612, 147.6599966995418, 141.13999684527516, 134.60999699123204, 128.22999713383615, 122.17999726906419, 116.5499973949045, 111.38999751023948, 106.70999761484563, 102.51999770849943, 98.8599977903068, 95.76999785937369, 93.32999791391194, 91.64999795146286, 90.9399979673326, 91.42999795638025, 93.48999791033566, 97.46999782137573, 103.76999768055975, 112.49999748542905, 123.64999723620713, 136.9899969380349, 151.87999660521746, 167.43999625742435, 182.7499959152192, 196.90999559871852, 209.82999530993402, 221.7199950441718, 232.6899947989732, 242.82999457232654, 252.25999436154962, 261.08999416418374, 269.35999397933483, 277.10999380610883, 284.32999364472926, 290.99999349564314, 297.06999335996807, 302.52999323792756, 307.3699931297451, 311.59999303519726, 315.22999295406044, 318.32999288477004, 320.9299928266555, 323.08999277837574, 324.86999273858964, 326.3199927061796, 327.4899926800281, 328.42999265901744, 329.17999264225364, 329.7599926292896, 330.20999261923134, 330.54999261163175, 330.8099926058203, 330.99999260157347, 331.1399925984442, 331.23999259620905, 331.3099925946444, 331.34999259375036, 331.3899925928563, 331.39999259263277, 331.41999259218574, 331.41999259218574, 331.41999259218574, 331.41999259218574]\n"
     ]
    }
   ],
   "source": [
    "# Variables\n",
    "# The unique identifier corresponding to a river segment:\n",
    "StreamID = 23275226\n",
    "\n",
    "# Date in YYYYMMDD format. Can only be today or yesterday. Here the variable 'today' is called from the previous cell.\n",
    "# If you do decide to change this variable be sure to put your date in as a string by placing it inside of quotes like this: 'YYYYMMDD' \n",
    "ForecastStartDate = today  \n",
    "\n",
    "# Timestep forecast was issued, 00 = midnight CST (Central Standard Time), Cannot exceed 24, \n",
    "# Cannot be in the future (Example: Today two hours from now)\n",
    "# For short_range can be 00, 01, 02, 03, etc.\n",
    "# For medium_range or long_range can be 00, 06, 12, etc.:\n",
    "ForecastStartTimestep = '00'       \n",
    "\n",
    "# Options are 'short_range', 'medium_range', and 'long_range':\n",
    "ForecastType = 'medium_range'       \n",
    "\n",
    "# Should be 1 for short_range. If using medium_range or 'long_range' then specify the ensemble member \n",
    "# (1-4 for long_range or 1-7 for medium_range):\n",
    "ForecastMember = '1'  \n",
    "\n",
    "\n",
    "# Now we use the GetSeries function from above, and provide it with the appropriate arguments using the variables that were just created.\n",
    "Series = GetSeries(StreamID, ForecastStartDate, ForecastStartTimestep, ForecastType, ForecastMember)\n",
    "print(Series)\n",
    "\n",
    "# If this cell gives an error, double check that you've passed valid variables and run it again."
   ]
  },
  {
   "cell_type": "markdown",
   "metadata": {},
   "source": [
    "<em><h4>Plotting</h4></em>"
   ]
  },
  {
   "cell_type": "code",
   "execution_count": 10,
   "metadata": {},
   "outputs": [
    {
     "data": {
      "image/png": "[encoded data removed]",
      "text/plain": [
       "<Figure size 720x432 with 1 Axes>"
      ]
     },
     "metadata": {
      "needs_background": "light"
     },
     "output_type": "display_data"
    }
   ],
   "source": [
    "# Plot the series and explore what it looks like\n",
    "plt.rc('font', size=14)\n",
    "fig, ax = plt.subplots(figsize=(10, 6))\n",
    "ax.plot(Series, color='tab:blue', label='Streamflow')\n",
    "ax.set_xlabel('Time')\n",
    "ax.set_ylabel('Flowrate (cms)')\n",
    "ax.set_title(ForecastType + ' forecast for Stream ID ' + str(StreamID))\n",
    "ax.grid(True)\n"
   ]
  },
  {
   "cell_type": "code",
   "execution_count": 16,
   "metadata": {},
   "outputs": [
    {
     "name": "stdout",
     "output_type": "stream",
     "text": [
      "nwm.t20220730z.medium_range.channel_rt_1.f00.conus.nc\n"
     ]
    }
   ],
   "source": [
    "# Build forecast url and get forecast file using the previously defined functions\n",
    "url = GetForecastFileName(today, ForecastStartDate,ForecastType,ForecastMember,ForecastStartTimestep)\n",
    "path = GetForecastFile(url)\n",
    "print(path)"
   ]
  },
  {
   "cell_type": "code",
   "execution_count": 17,
   "metadata": {},
   "outputs": [
    {
     "ename": "ValueError",
     "evalue": "did not find a match in any of xarray's currently installed IO backends ['netcdf4', 'h5netcdf', 'scipy', 'cfgrib', 'pseudonetcdf', 'pydap']. Consider explicitly selecting one of the installed engines via the ``engine`` parameter, or installing additional IO dependencies, see:\nhttps://docs.xarray.dev/en/stable/getting-started-guide/installing.html\nhttps://docs.xarray.dev/en/stable/user-guide/io.html",
     "output_type": "error",
     "traceback": [
      "\u001b[1;31m---------------------------------------------------------------------------\u001b[0m",
      "\u001b[1;31mValueError\u001b[0m                                Traceback (most recent call last)",
      "Input \u001b[1;32mIn [17]\u001b[0m, in \u001b[0;36m<cell line: 4>\u001b[1;34m()\u001b[0m\n\u001b[0;32m      1\u001b[0m \u001b[38;5;66;03m# Use the path and xarray to create a dataframe. This is easier to work with than a series of values\u001b[39;00m\n\u001b[0;32m      2\u001b[0m \n\u001b[0;32m      3\u001b[0m \u001b[38;5;66;03m# Open the NWM NetCDF file as an xarray dataset\u001b[39;00m\n\u001b[1;32m----> 4\u001b[0m ds \u001b[38;5;241m=\u001b[39m \u001b[43mxr\u001b[49m\u001b[38;5;241;43m.\u001b[39;49m\u001b[43mopen_dataset\u001b[49m\u001b[43m(\u001b[49m\u001b[43mpath\u001b[49m\u001b[43m)\u001b[49m\n\u001b[0;32m      5\u001b[0m \u001b[38;5;28mtype\u001b[39m(ds)\n\u001b[0;32m      6\u001b[0m ds\n",
      "File \u001b[1;32m~\\.conda\\envs\\nwm\\lib\\site-packages\\xarray\\backends\\api.py:479\u001b[0m, in \u001b[0;36mopen_dataset\u001b[1;34m(filename_or_obj, engine, chunks, cache, decode_cf, mask_and_scale, decode_times, decode_timedelta, use_cftime, concat_characters, decode_coords, drop_variables, backend_kwargs, *args, **kwargs)\u001b[0m\n\u001b[0;32m    476\u001b[0m     kwargs\u001b[38;5;241m.\u001b[39mupdate(backend_kwargs)\n\u001b[0;32m    478\u001b[0m \u001b[38;5;28;01mif\u001b[39;00m engine \u001b[38;5;129;01mis\u001b[39;00m \u001b[38;5;28;01mNone\u001b[39;00m:\n\u001b[1;32m--> 479\u001b[0m     engine \u001b[38;5;241m=\u001b[39m \u001b[43mplugins\u001b[49m\u001b[38;5;241;43m.\u001b[39;49m\u001b[43mguess_engine\u001b[49m\u001b[43m(\u001b[49m\u001b[43mfilename_or_obj\u001b[49m\u001b[43m)\u001b[49m\n\u001b[0;32m    481\u001b[0m backend \u001b[38;5;241m=\u001b[39m plugins\u001b[38;5;241m.\u001b[39mget_backend(engine)\n\u001b[0;32m    483\u001b[0m decoders \u001b[38;5;241m=\u001b[39m _resolve_decoders_kwargs(\n\u001b[0;32m    484\u001b[0m     decode_cf,\n\u001b[0;32m    485\u001b[0m     open_backend_dataset_parameters\u001b[38;5;241m=\u001b[39mbackend\u001b[38;5;241m.\u001b[39mopen_dataset_parameters,\n\u001b[1;32m   (...)\u001b[0m\n\u001b[0;32m    491\u001b[0m     decode_coords\u001b[38;5;241m=\u001b[39mdecode_coords,\n\u001b[0;32m    492\u001b[0m )\n",
      "File \u001b[1;32m~\\.conda\\envs\\nwm\\lib\\site-packages\\xarray\\backends\\plugins.py:148\u001b[0m, in \u001b[0;36mguess_engine\u001b[1;34m(store_spec)\u001b[0m\n\u001b[0;32m    140\u001b[0m \u001b[38;5;28;01melse\u001b[39;00m:\n\u001b[0;32m    141\u001b[0m     error_msg \u001b[38;5;241m=\u001b[39m (\n\u001b[0;32m    142\u001b[0m         \u001b[38;5;124m\"\u001b[39m\u001b[38;5;124mfound the following matches with the input file in xarray\u001b[39m\u001b[38;5;124m'\u001b[39m\u001b[38;5;124ms IO \u001b[39m\u001b[38;5;124m\"\u001b[39m\n\u001b[0;32m    143\u001b[0m         \u001b[38;5;124mf\u001b[39m\u001b[38;5;124m\"\u001b[39m\u001b[38;5;124mbackends: \u001b[39m\u001b[38;5;132;01m{\u001b[39;00mcompatible_engines\u001b[38;5;132;01m}\u001b[39;00m\u001b[38;5;124m. But their dependencies may not be installed, see:\u001b[39m\u001b[38;5;130;01m\\n\u001b[39;00m\u001b[38;5;124m\"\u001b[39m\n\u001b[0;32m    144\u001b[0m         \u001b[38;5;124m\"\u001b[39m\u001b[38;5;124mhttps://docs.xarray.dev/en/stable/user-guide/io.html \u001b[39m\u001b[38;5;130;01m\\n\u001b[39;00m\u001b[38;5;124m\"\u001b[39m\n\u001b[0;32m    145\u001b[0m         \u001b[38;5;124m\"\u001b[39m\u001b[38;5;124mhttps://docs.xarray.dev/en/stable/getting-started-guide/installing.html\u001b[39m\u001b[38;5;124m\"\u001b[39m\n\u001b[0;32m    146\u001b[0m     )\n\u001b[1;32m--> 148\u001b[0m \u001b[38;5;28;01mraise\u001b[39;00m \u001b[38;5;167;01mValueError\u001b[39;00m(error_msg)\n",
      "\u001b[1;31mValueError\u001b[0m: did not find a match in any of xarray's currently installed IO backends ['netcdf4', 'h5netcdf', 'scipy', 'cfgrib', 'pseudonetcdf', 'pydap']. Consider explicitly selecting one of the installed engines via the ``engine`` parameter, or installing additional IO dependencies, see:\nhttps://docs.xarray.dev/en/stable/getting-started-guide/installing.html\nhttps://docs.xarray.dev/en/stable/user-guide/io.html"
     ]
    }
   ],
   "source": [
    "# Use the path and xarray to create a dataframe. This is easier to work with than a series of values\n",
    "\n",
    "# Open the NWM NetCDF file as an xarray dataset\n",
    "ds = xr.open_dataset(path)\n",
    "type(ds)\n",
    "ds"
   ]
  },
  {
   "cell_type": "code",
   "execution_count": null,
   "metadata": {},
   "outputs": [],
   "source": [
    "# Extract the streamflow values from the dataset as a dataarray\n",
    "streamflow = ds[\"streamflow\"]\n",
    "\n",
    "#convert to dataframe\n",
    "streamflow_df = streamflow.to_dataframe()\n"
   ]
  },
  {
   "cell_type": "markdown",
   "metadata": {},
   "source": [
    "NetCDF files are typically large and can take up space on your desk, so the next cell is handy to erase the forecast files that were downloaded previously. The cell is also written so that it will print out the name of each file that it removes/deletes."
   ]
  },
  {
   "cell_type": "code",
   "execution_count": null,
   "metadata": {},
   "outputs": [],
   "source": [
    "files = [f for f in os.listdir('.') \n",
    "         if os.path.isfile(f)]\n",
    "\n",
    "for f in files:\n",
    "    # Delete leftover netcdf files \n",
    "    if \"nwm\" in f and f.endswith(\".conus.nc\"):\n",
    "        print(f)\n",
    "        os.remove(f)"
   ]
  },
  {
   "cell_type": "markdown",
   "metadata": {},
   "source": [
    "<em><h3>Google Cloud Platform (GCP) NWM Dataset</h3></em>"
   ]
  },
  {
   "cell_type": "markdown",
   "metadata": {},
   "source": [
    "In this section, we query historical NWM data from GCP.Data from September of 2018 through today is avaible here:\n",
    "https://console.cloud.google.com/storage/browser/national-water-model;tab=objects?pageState=(%22StorageObjectListTable%22:(%22f%22:%22%255B%255D%22))&prefix=&forceOnObjectsSortingFiltering=false\n",
    "\n",
    "To access the data on GCP, we will use HydroTools. Hydrotools only returns NWM reaches that have an associated USGS gauge. 7500+ reaches of the National Water Model are available via Hydrotools. Hydrotools is described as a suite of tools for retrieving USGS NWIS observations and evaluating NWM data. Documentation can be viewed at https://noaa-owp.github.io/hydrotools/.\n"
   ]
  },
  {
   "cell_type": "code",
   "execution_count": 20,
   "metadata": {},
   "outputs": [],
   "source": [
    "# Install from here:\n",
    "#!pip install hydrotools.nwm_client[gcp]\n",
    "\n",
    "#Then import the libraries:\n",
    "from hydrotools.nwm_client import http as nwm\n",
    "from hydrotools.nwm_client import gcp\n",
    "import pandas as pd\n",
    "import matplotlib.pyplot as plt\n",
    "import os, glob\n",
    "from functools import reduce"
   ]
  },
  {
   "cell_type": "code",
   "execution_count": 21,
   "metadata": {},
   "outputs": [
    {
     "name": "stdout",
     "output_type": "stream",
     "text": [
      "['analysis_assim', 'analysis_assim_extend', 'analysis_assim_hawaii', 'analysis_assim_long', 'analysis_assim_puertorico', 'long_range_mem1', 'long_range_mem2', 'long_range_mem3', 'long_range_mem4', 'medium_range_mem1', 'medium_range_mem2', 'medium_range_mem3', 'medium_range_mem4', 'medium_range_mem5', 'medium_range_mem6', 'medium_range_mem7', 'short_range', 'short_range_hawaii', 'short_range_puertorico', 'analysis_assim_no_da', 'analysis_assim_extend_no_da', 'analysis_assim_hawaii_no_da', 'analysis_assim_long_no_da', 'analysis_assim_puertorico_no_da', 'medium_range_no_da', 'short_range_hawaii_no_da', 'short_range_puertorico_no_da']\n"
     ]
    }
   ],
   "source": [
    "# Specify service\n",
    "service=gcp.NWMDataService()\n",
    "# Print out possible configurations\n",
    "print(service.configurations)"
   ]
  },
  {
   "cell_type": "code",
   "execution_count": 22,
   "metadata": {},
   "outputs": [],
   "source": [
    "start_date = \"20201114T00Z\""
   ]
  },
  {
   "cell_type": "code",
   "execution_count": 23,
   "metadata": {},
   "outputs": [],
   "source": [
    "from hydrotools.nwm_client import gcp as nwm\n",
    "\n",
    "#Query all data for all reaches for this start data\n",
    "df_med1 = service.get(\n",
    "    configuration = \"medium_range_mem1\", \n",
    "    reference_time = start_date \n",
    ")"
   ]
  },
  {
   "cell_type": "code",
   "execution_count": null,
   "metadata": {},
   "outputs": [],
   "source": [
    "# Next, subset the data for desired reaches\n",
    "\n",
    "# Create a list with my desired reach ids\n",
    "myreaches_list = ['07079300', '07081200', '07083000', '07134100' ]"
   ]
  },
  {
   "cell_type": "code",
   "execution_count": null,
   "metadata": {},
   "outputs": [],
   "source": [
    "# Initialize an empty DataFrame\n",
    "ark_med1 = pd.DataFrame()\n",
    "\n",
    "# Add each reach's forecast from the DataFrame we retrieved from GCP to our new DataFrame\n",
    "for i in myreaches_list:\n",
    "    x = df_med1.loc[df_med1[\"usgs_site_code\"]==i]\n",
    "    ark_med1 = pd.concat([ark_med1,x])"
   ]
  }
 ],
 "metadata": {
  "kernelspec": {
   "display_name": "Python 3 (ipykernel)",
   "language": "python",
   "name": "python3"
  },
  "language_info": {
   "codemirror_mode": {
    "name": "ipython",
    "version": 3
   },
   "file_extension": ".py",
   "mimetype": "text/x-python",
   "name": "python",
   "nbconvert_exporter": "python",
   "pygments_lexer": "ipython3",
   "version": "3.10.4"
  }
 },
 "nbformat": 4,
 "nbformat_minor": 4
}
